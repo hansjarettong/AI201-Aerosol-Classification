{
 "cells": [
  {
   "attachments": {},
   "cell_type": "markdown",
   "metadata": {},
   "source": [
    "Where we convert the raw data into training and validation sets.\n",
    "Manila Observatory will be the \"test\" set."
   ]
  },
  {
   "cell_type": "code",
   "execution_count": 3,
   "metadata": {},
   "outputs": [],
   "source": [
    "import pandas as pd\n",
    "import os"
   ]
  },
  {
   "cell_type": "code",
   "execution_count": 56,
   "metadata": {},
   "outputs": [],
   "source": [
    "REF_CLUSTER_DIR = \"raw_data/reference_sites/\"\n",
    "\n",
    "site2type = {\n",
    "    \"Solar_Village\" : \"MD\",\n",
    "    \"Beijing\" : \"PD\",\n",
    "    \"Mongu\" : \"BBD\",\n",
    "    \"Alta_Floresta\": \"BBW\",\n",
    "    \"GSFC\" : \"UI\",\n",
    "    \"Chen-Kung_Univ\" : \"UID\",\n",
    "}\n",
    "\n",
    "site_min_month = {\n",
    "    \"Solar_Village\" : 3,\n",
    "    \"Beijing\" : 1,\n",
    "    \"Mongu\" : 8,\n",
    "    \"Alta_Floresta\": 8,\n",
    "    \"GSFC\" : 6,\n",
    "    \"Chen-Kung_Univ\" : 1,\n",
    "}\n",
    "\n",
    "site_max_month = {\n",
    "    \"Solar_Village\" : 7,\n",
    "    \"Beijing\" : 12,\n",
    "    \"Mongu\" : 11,\n",
    "    \"Alta_Floresta\": 10,\n",
    "    \"GSFC\" : 9,\n",
    "    \"Chen-Kung_Univ\" : 12,\n",
    "}\n",
    "\n",
    "\n",
    "\n",
    "cols_to_keep = [\n",
    "    'Site',\n",
    "    'Date(dd:mm:yyyy)',\n",
    "    'Angstrom_Exponent_440-870nm_from_Coincident_Input_AOD',\n",
    "    'Extinction_Angstrom_Exponent_440-870nm-Total',\n",
    "    'Single_Scattering_Albedo[440nm]',\n",
    "    'Single_Scattering_Albedo[675nm]',\n",
    "    'Single_Scattering_Albedo[870nm]',\n",
    "    'Single_Scattering_Albedo[1020nm]',\n",
    "    'Absorption_Angstrom_Exponent_440-870nm',\n",
    "    'Refractive_Index-Real_Part[440nm]',\n",
    "    'Refractive_Index-Real_Part[675nm]',\n",
    "    'Refractive_Index-Real_Part[870nm]',\n",
    "    'Refractive_Index-Real_Part[1020nm]',\n",
    "    'Refractive_Index-Imaginary_Part[440nm]',\n",
    "    'Refractive_Index-Imaginary_Part[675nm]',\n",
    "    'Refractive_Index-Imaginary_Part[870nm]',\n",
    "    'Refractive_Index-Imaginary_Part[1020nm]',\n",
    "    'Asymmetry_Factor-Total[440nm]',\n",
    "    'Asymmetry_Factor-Total[675nm]',\n",
    "    'Asymmetry_Factor-Total[870nm]',\n",
    "    'Asymmetry_Factor-Total[1020nm]',\n",
    "    'Asymmetry_Factor-Fine[440nm]',\n",
    "    'Asymmetry_Factor-Fine[675nm]',\n",
    "    'Asymmetry_Factor-Fine[870nm]',\n",
    "    'Asymmetry_Factor-Fine[1020nm]',\n",
    "    'Asymmetry_Factor-Coarse[440nm]',\n",
    "    'Asymmetry_Factor-Coarse[675nm]',\n",
    "    'Asymmetry_Factor-Coarse[870nm]',\n",
    "    'Asymmetry_Factor-Coarse[1020nm]',\n",
    "    'Sphericity_Factor(%)',\n",
    "    'Lidar_Ratio[440nm]',\n",
    "    'Lidar_Ratio[675nm]',\n",
    "    'Lidar_Ratio[870nm]',\n",
    "    'Lidar_Ratio[1020nm]',\n",
    "    'Depolarization_Ratio[440nm]',\n",
    "    'Depolarization_Ratio[675nm]',\n",
    "    'Depolarization_Ratio[870nm]',\n",
    "    'Depolarization_Ratio[1020nm]',\n",
    "]"
   ]
  },
  {
   "cell_type": "code",
   "execution_count": 66,
   "metadata": {},
   "outputs": [],
   "source": [
    "df = pd.concat([\n",
    "    pd.read_csv(\n",
    "        REF_CLUSTER_DIR  + f, skiprows=6, na_values=-999\n",
    "    )[cols_to_keep].assign(\n",
    "        date = lambda x: pd.to_datetime(x[\"Date(dd:mm:yyyy)\"], format=r\"%d:%m:%Y\"),\n",
    "        month = lambda x: x.date.dt.month,\n",
    "        aerosol_type = lambda x: x.Site.map(site2type),\n",
    "        start_month = lambda x: x.Site.map(site_min_month),\n",
    "        end_month = lambda x: x.Site.map(site_max_month),\n",
    "    ).query(\"start_month <= month <= end_month\")\\\n",
    "    .drop(columns=[\"Site\", \"Date(dd:mm:yyyy)\", \"month\", \"start_month\", \"end_month\"])\n",
    "    for f in os.listdir(REF_CLUSTER_DIR)\n",
    "])"
   ]
  },
  {
   "cell_type": "code",
   "execution_count": 67,
   "metadata": {},
   "outputs": [
    {
     "data": {
      "text/plain": [
       "MD     6162\n",
       "UI     3093\n",
       "PD     3088\n",
       "BBD    1984\n",
       "UID    1550\n",
       "BBW    1060\n",
       "Name: aerosol_type, dtype: int64"
      ]
     },
     "execution_count": 67,
     "metadata": {},
     "output_type": "execute_result"
    }
   ],
   "source": [
    "df.aerosol_type.value_counts()"
   ]
  },
  {
   "cell_type": "code",
   "execution_count": null,
   "metadata": {},
   "outputs": [],
   "source": []
  }
 ],
 "metadata": {
  "kernelspec": {
   "display_name": "base",
   "language": "python",
   "name": "python3"
  },
  "language_info": {
   "codemirror_mode": {
    "name": "ipython",
    "version": 3
   },
   "file_extension": ".py",
   "mimetype": "text/x-python",
   "name": "python",
   "nbconvert_exporter": "python",
   "pygments_lexer": "ipython3",
   "version": "3.7.11"
  },
  "orig_nbformat": 4,
  "vscode": {
   "interpreter": {
    "hash": "939bd20d5b44ed9d2a08eeb7fcb11d81258daf29df23b651221596b168b47990"
   }
  }
 },
 "nbformat": 4,
 "nbformat_minor": 2
}
