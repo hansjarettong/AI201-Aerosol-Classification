{
 "cells": [
  {
   "attachments": {},
   "cell_type": "markdown",
   "metadata": {},
   "source": [
    "Where we convert the raw data into training and validation sets.\n",
    "Manila Observatory will be the \"test\" set.\n",
    "\n",
    "`aerosol_type` is the response variable"
   ]
  },
  {
   "cell_type": "code",
   "execution_count": 1,
   "metadata": {},
   "outputs": [
    {
     "name": "stderr",
     "output_type": "stream",
     "text": [
      "c:\\Users\\Hans\\Anaconda3\\lib\\site-packages\\statsmodels\\tools\\_testing.py:19: FutureWarning: pandas.util.testing is deprecated. Use the functions in the public API at pandas.testing instead.\n",
      "  import pandas.util.testing as tm\n"
     ]
    }
   ],
   "source": [
    "import pandas as pd\n",
    "import numpy as np\n",
    "from tqdm.notebook import tqdm\n",
    "import os\n",
    "\n",
    "# MICE (imputation)\n",
    "from sklearn.experimental import enable_iterative_imputer\n",
    "from sklearn.impute import IterativeImputer\n",
    "from sklearn import linear_model\n",
    "\n",
    "# Feature Selection (VIF)\n",
    "import statsmodels.api as sm\n",
    "from statsmodels.stats.outliers_influence import variance_inflation_factor"
   ]
  },
  {
   "cell_type": "code",
   "execution_count": 2,
   "metadata": {},
   "outputs": [],
   "source": [
    "REF_CLUSTER_DIR = \"raw_data/reference_sites/\"\n",
    "\n",
    "site2type = {\n",
    "    \"Solar_Village\" : \"MD\",\n",
    "    \"Beijing\" : \"PD\",\n",
    "    \"Mongu\" : \"BBD\",\n",
    "    \"Alta_Floresta\": \"BBW\",\n",
    "    \"GSFC\" : \"UI\",\n",
    "    \"Chen-Kung_Univ\" : \"UID\",\n",
    "}\n",
    "\n",
    "site_min_month = {\n",
    "    \"Solar_Village\" : 3,\n",
    "    \"Beijing\" : 1,\n",
    "    \"Mongu\" : 8,\n",
    "    \"Alta_Floresta\": 8,\n",
    "    \"GSFC\" : 6,\n",
    "    \"Chen-Kung_Univ\" : 1,\n",
    "}\n",
    "\n",
    "site_max_month = {\n",
    "    \"Solar_Village\" : 7,\n",
    "    \"Beijing\" : 12,\n",
    "    \"Mongu\" : 11,\n",
    "    \"Alta_Floresta\": 10,\n",
    "    \"GSFC\" : 9,\n",
    "    \"Chen-Kung_Univ\" : 12,\n",
    "}\n",
    "\n",
    "\n",
    "\n",
    "cols_to_keep = [\n",
    "    'Site',\n",
    "    'Date(dd:mm:yyyy)',\n",
    "    'Angstrom_Exponent_440-870nm_from_Coincident_Input_AOD',\n",
    "    'Extinction_Angstrom_Exponent_440-870nm-Total',\n",
    "    'Single_Scattering_Albedo[440nm]',\n",
    "    'Single_Scattering_Albedo[675nm]',\n",
    "    'Single_Scattering_Albedo[870nm]',\n",
    "    'Single_Scattering_Albedo[1020nm]',\n",
    "    'Absorption_Angstrom_Exponent_440-870nm',\n",
    "    'Refractive_Index-Real_Part[440nm]',\n",
    "    'Refractive_Index-Real_Part[675nm]',\n",
    "    'Refractive_Index-Real_Part[870nm]',\n",
    "    'Refractive_Index-Real_Part[1020nm]',\n",
    "    'Refractive_Index-Imaginary_Part[440nm]',\n",
    "    'Refractive_Index-Imaginary_Part[675nm]',\n",
    "    'Refractive_Index-Imaginary_Part[870nm]',\n",
    "    'Refractive_Index-Imaginary_Part[1020nm]',\n",
    "    'Asymmetry_Factor-Total[440nm]',\n",
    "    'Asymmetry_Factor-Total[675nm]',\n",
    "    'Asymmetry_Factor-Total[870nm]',\n",
    "    'Asymmetry_Factor-Total[1020nm]',\n",
    "    'Asymmetry_Factor-Fine[440nm]',\n",
    "    'Asymmetry_Factor-Fine[675nm]',\n",
    "    'Asymmetry_Factor-Fine[870nm]',\n",
    "    'Asymmetry_Factor-Fine[1020nm]',\n",
    "    'Asymmetry_Factor-Coarse[440nm]',\n",
    "    'Asymmetry_Factor-Coarse[675nm]',\n",
    "    'Asymmetry_Factor-Coarse[870nm]',\n",
    "    'Asymmetry_Factor-Coarse[1020nm]',\n",
    "    'Sphericity_Factor(%)',\n",
    "    'Lidar_Ratio[440nm]',\n",
    "    'Lidar_Ratio[675nm]',\n",
    "    'Lidar_Ratio[870nm]',\n",
    "    'Lidar_Ratio[1020nm]',\n",
    "    'Depolarization_Ratio[440nm]',\n",
    "    'Depolarization_Ratio[675nm]',\n",
    "    'Depolarization_Ratio[870nm]',\n",
    "    'Depolarization_Ratio[1020nm]',\n",
    "]"
   ]
  },
  {
   "cell_type": "code",
   "execution_count": 3,
   "metadata": {},
   "outputs": [],
   "source": [
    "df = pd.concat([\n",
    "    pd.read_csv(\n",
    "        REF_CLUSTER_DIR  + f, skiprows=6, na_values=-999\n",
    "    )[cols_to_keep].assign(\n",
    "        date = lambda x: pd.to_datetime(x[\"Date(dd:mm:yyyy)\"], format=r\"%d:%m:%Y\"),\n",
    "        month = lambda x: x.date.dt.month,\n",
    "        aerosol_type = lambda x: x.Site.map(site2type),\n",
    "        start_month = lambda x: x.Site.map(site_min_month),\n",
    "        end_month = lambda x: x.Site.map(site_max_month),\n",
    "    ).query(\"start_month <= month <= end_month\")\\\n",
    "    .drop(columns=[\"Site\", \"Date(dd:mm:yyyy)\", \"month\", \"start_month\", \"end_month\"])\n",
    "    for f in os.listdir(REF_CLUSTER_DIR)\n",
    "])"
   ]
  },
  {
   "cell_type": "code",
   "execution_count": 4,
   "metadata": {},
   "outputs": [
    {
     "data": {
      "text/plain": [
       "MD     6162\n",
       "UI     3093\n",
       "PD     3088\n",
       "BBD    1984\n",
       "UID    1550\n",
       "BBW    1060\n",
       "Name: aerosol_type, dtype: int64"
      ]
     },
     "execution_count": 4,
     "metadata": {},
     "output_type": "execute_result"
    }
   ],
   "source": [
    "df.aerosol_type.value_counts()"
   ]
  },
  {
   "cell_type": "code",
   "execution_count": 5,
   "metadata": {},
   "outputs": [
    {
     "data": {
      "text/plain": [
       "0.4823758634941253"
      ]
     },
     "execution_count": 5,
     "metadata": {},
     "output_type": "execute_result"
    }
   ],
   "source": [
    "df[\"Single_Scattering_Albedo[440nm]\"].isna().mean()"
   ]
  },
  {
   "attachments": {},
   "cell_type": "markdown",
   "metadata": {},
   "source": [
    "# Train-Validation Split\n",
    "\n",
    "Data must be split before doing imputation in order to avoid data leakage. To keep things simple, we'll stick with a simple 70-30 split."
   ]
  },
  {
   "cell_type": "code",
   "execution_count": 6,
   "metadata": {},
   "outputs": [],
   "source": [
    "np.random.seed(2023)\n",
    "rand_idx = np.random.permutation(df.index)\n",
    "train_idx = rand_idx[:int(0.7*len(rand_idx))]\n",
    "valid_idx = rand_idx[int(0.7*len(rand_idx)):]"
   ]
  },
  {
   "cell_type": "code",
   "execution_count": 7,
   "metadata": {},
   "outputs": [],
   "source": [
    "train_df = df.loc[train_idx]\n",
    "valid_df = df.loc[valid_idx]"
   ]
  },
  {
   "attachments": {},
   "cell_type": "markdown",
   "metadata": {},
   "source": [
    "# MICE imputation\n",
    "\n",
    "SMOTE is for balancing the classes, in our case what we need is a method for imputation. A common method to use (apart from filling the NANs with the mean) is Multivariate Imputation by Chained Equation (MICE).\n",
    "\n",
    "Ref: https://towardsdatascience.com/imputing-missing-data-with-simple-and-advanced-techniques-f5c7b157fb87#:~:text=One%20way%20to%20impute%20missing,with%20the%20previously%20observed%20value.\n",
    "\n",
    "We fit the MICE imputer on the training set and use the learned model for imputing the validation and test sets."
   ]
  },
  {
   "cell_type": "code",
   "execution_count": 8,
   "metadata": {},
   "outputs": [
    {
     "data": {
      "text/plain": [
       "Index(['Sphericity_Factor(%)'], dtype='object')"
      ]
     },
     "execution_count": 8,
     "metadata": {},
     "output_type": "execute_result"
    }
   ],
   "source": [
    "train_df.columns[train_df.isna().mean()==1]"
   ]
  },
  {
   "cell_type": "code",
   "execution_count": 9,
   "metadata": {},
   "outputs": [],
   "source": [
    "# remove Sphericity_Factor(%) because the entire column is null.\n",
    "X_cols = [c for c in train_df.columns if c not in [\"aerosol_type\", \"date\", \"Sphericity_Factor(%)\"]]"
   ]
  },
  {
   "cell_type": "code",
   "execution_count": 10,
   "metadata": {},
   "outputs": [
    {
     "name": "stderr",
     "output_type": "stream",
     "text": [
      "c:\\Users\\Hans\\Anaconda3\\lib\\site-packages\\sklearn\\impute\\_iterative.py:701: ConvergenceWarning: [IterativeImputer] Early stopping criterion not reached.\n",
      "  ConvergenceWarning,\n"
     ]
    }
   ],
   "source": [
    "mice_imputer = IterativeImputer(\n",
    "    estimator=linear_model.BayesianRidge(), \n",
    "    n_nearest_features=None,\n",
    "    imputation_order=\"ascending\"    \n",
    ").fit(\n",
    "    train_df[X_cols]\n",
    ")"
   ]
  },
  {
   "cell_type": "code",
   "execution_count": 11,
   "metadata": {},
   "outputs": [],
   "source": [
    "train_df = pd.concat([\n",
    "    train_df.reset_index()[[\"aerosol_type\", \"date\"]],\n",
    "    pd.DataFrame(\n",
    "        mice_imputer.transform(train_df[X_cols]),\n",
    "        columns=X_cols\n",
    "    )\n",
    "], axis=1)"
   ]
  },
  {
   "attachments": {},
   "cell_type": "markdown",
   "metadata": {},
   "source": [
    "# Normalize Data"
   ]
  },
  {
   "cell_type": "code",
   "execution_count": 12,
   "metadata": {},
   "outputs": [],
   "source": [
    "train_mean = train_df[X_cols].mean()\n",
    "train_std = train_df[X_cols].std()"
   ]
  },
  {
   "cell_type": "code",
   "execution_count": 13,
   "metadata": {},
   "outputs": [],
   "source": [
    "train_df[X_cols] = (train_df[X_cols] - train_mean)/ train_std"
   ]
  },
  {
   "attachments": {},
   "cell_type": "markdown",
   "metadata": {},
   "source": [
    "# Feature Selection\n",
    "\n",
    "A lot of the columns are highly correlated -- let's multicollinearity using Variance Inflation Factor (VIF). High VIF features are iteratively removed until all variables have VIF < 10."
   ]
  },
  {
   "cell_type": "code",
   "execution_count": 14,
   "metadata": {},
   "outputs": [
    {
     "data": {
      "application/vnd.jupyter.widget-view+json": {
       "model_id": "078179814c944759921f3f48a5f288f8",
       "version_major": 2,
       "version_minor": 0
      },
      "text/plain": [
       "  0%|          | 0/35 [00:00<?, ?it/s]"
      ]
     },
     "metadata": {},
     "output_type": "display_data"
    },
    {
     "data": {
      "application/vnd.jupyter.widget-view+json": {
       "model_id": "cc2b0cf84b564297877cd52b795edda1",
       "version_major": 2,
       "version_minor": 0
      },
      "text/plain": [
       "  0%|          | 0/34 [00:00<?, ?it/s]"
      ]
     },
     "metadata": {},
     "output_type": "display_data"
    },
    {
     "data": {
      "application/vnd.jupyter.widget-view+json": {
       "model_id": "064b96bcac6843fa893b30c93779fced",
       "version_major": 2,
       "version_minor": 0
      },
      "text/plain": [
       "  0%|          | 0/33 [00:00<?, ?it/s]"
      ]
     },
     "metadata": {},
     "output_type": "display_data"
    },
    {
     "data": {
      "application/vnd.jupyter.widget-view+json": {
       "model_id": "7d8da60c8de948c9a3a025efc2486d35",
       "version_major": 2,
       "version_minor": 0
      },
      "text/plain": [
       "  0%|          | 0/32 [00:00<?, ?it/s]"
      ]
     },
     "metadata": {},
     "output_type": "display_data"
    },
    {
     "data": {
      "application/vnd.jupyter.widget-view+json": {
       "model_id": "0141c6f7d800488a90d94dec1b363245",
       "version_major": 2,
       "version_minor": 0
      },
      "text/plain": [
       "  0%|          | 0/31 [00:00<?, ?it/s]"
      ]
     },
     "metadata": {},
     "output_type": "display_data"
    },
    {
     "data": {
      "application/vnd.jupyter.widget-view+json": {
       "model_id": "050f7af560694ef99690ed0509d7d39f",
       "version_major": 2,
       "version_minor": 0
      },
      "text/plain": [
       "  0%|          | 0/30 [00:00<?, ?it/s]"
      ]
     },
     "metadata": {},
     "output_type": "display_data"
    },
    {
     "data": {
      "application/vnd.jupyter.widget-view+json": {
       "model_id": "2d45291d6e4a45bcaef434ede7d3163e",
       "version_major": 2,
       "version_minor": 0
      },
      "text/plain": [
       "  0%|          | 0/29 [00:00<?, ?it/s]"
      ]
     },
     "metadata": {},
     "output_type": "display_data"
    },
    {
     "data": {
      "application/vnd.jupyter.widget-view+json": {
       "model_id": "634f139cfe584f2b918884449acfa5af",
       "version_major": 2,
       "version_minor": 0
      },
      "text/plain": [
       "  0%|          | 0/28 [00:00<?, ?it/s]"
      ]
     },
     "metadata": {},
     "output_type": "display_data"
    },
    {
     "data": {
      "application/vnd.jupyter.widget-view+json": {
       "model_id": "94db9288ead9485fa0cdd3d5224980c5",
       "version_major": 2,
       "version_minor": 0
      },
      "text/plain": [
       "  0%|          | 0/27 [00:00<?, ?it/s]"
      ]
     },
     "metadata": {},
     "output_type": "display_data"
    },
    {
     "data": {
      "application/vnd.jupyter.widget-view+json": {
       "model_id": "910ac8431d724650a1c14dd8c5699f07",
       "version_major": 2,
       "version_minor": 0
      },
      "text/plain": [
       "  0%|          | 0/26 [00:00<?, ?it/s]"
      ]
     },
     "metadata": {},
     "output_type": "display_data"
    },
    {
     "data": {
      "application/vnd.jupyter.widget-view+json": {
       "model_id": "4cc77255025046e7aac53e89b446944c",
       "version_major": 2,
       "version_minor": 0
      },
      "text/plain": [
       "  0%|          | 0/25 [00:00<?, ?it/s]"
      ]
     },
     "metadata": {},
     "output_type": "display_data"
    },
    {
     "data": {
      "application/vnd.jupyter.widget-view+json": {
       "model_id": "83f6451a8e0a4de7902aafbf375ea47f",
       "version_major": 2,
       "version_minor": 0
      },
      "text/plain": [
       "  0%|          | 0/24 [00:00<?, ?it/s]"
      ]
     },
     "metadata": {},
     "output_type": "display_data"
    },
    {
     "data": {
      "application/vnd.jupyter.widget-view+json": {
       "model_id": "a166a7a62296443d9d20f8bafb29a6f4",
       "version_major": 2,
       "version_minor": 0
      },
      "text/plain": [
       "  0%|          | 0/23 [00:00<?, ?it/s]"
      ]
     },
     "metadata": {},
     "output_type": "display_data"
    },
    {
     "data": {
      "application/vnd.jupyter.widget-view+json": {
       "model_id": "c9487d8f8a384e8fb3a7726e7ce2ee29",
       "version_major": 2,
       "version_minor": 0
      },
      "text/plain": [
       "  0%|          | 0/22 [00:00<?, ?it/s]"
      ]
     },
     "metadata": {},
     "output_type": "display_data"
    },
    {
     "data": {
      "application/vnd.jupyter.widget-view+json": {
       "model_id": "8add3429500242789a299efe77926d52",
       "version_major": 2,
       "version_minor": 0
      },
      "text/plain": [
       "  0%|          | 0/21 [00:00<?, ?it/s]"
      ]
     },
     "metadata": {},
     "output_type": "display_data"
    },
    {
     "data": {
      "application/vnd.jupyter.widget-view+json": {
       "model_id": "184e36e9e41643e38c3e23098e152497",
       "version_major": 2,
       "version_minor": 0
      },
      "text/plain": [
       "  0%|          | 0/20 [00:00<?, ?it/s]"
      ]
     },
     "metadata": {},
     "output_type": "display_data"
    },
    {
     "data": {
      "application/vnd.jupyter.widget-view+json": {
       "model_id": "2f3c6bfd7bf04397951494bd0e531f0d",
       "version_major": 2,
       "version_minor": 0
      },
      "text/plain": [
       "  0%|          | 0/19 [00:00<?, ?it/s]"
      ]
     },
     "metadata": {},
     "output_type": "display_data"
    },
    {
     "data": {
      "application/vnd.jupyter.widget-view+json": {
       "model_id": "695108481156452c95124d14e92c01e7",
       "version_major": 2,
       "version_minor": 0
      },
      "text/plain": [
       "  0%|          | 0/18 [00:00<?, ?it/s]"
      ]
     },
     "metadata": {},
     "output_type": "display_data"
    },
    {
     "data": {
      "application/vnd.jupyter.widget-view+json": {
       "model_id": "6f65ff949602488e8a44ed1de8cef990",
       "version_major": 2,
       "version_minor": 0
      },
      "text/plain": [
       "  0%|          | 0/17 [00:00<?, ?it/s]"
      ]
     },
     "metadata": {},
     "output_type": "display_data"
    },
    {
     "data": {
      "application/vnd.jupyter.widget-view+json": {
       "model_id": "b6372a3ae2384a6b9162d7232fdfefac",
       "version_major": 2,
       "version_minor": 0
      },
      "text/plain": [
       "  0%|          | 0/16 [00:00<?, ?it/s]"
      ]
     },
     "metadata": {},
     "output_type": "display_data"
    },
    {
     "data": {
      "application/vnd.jupyter.widget-view+json": {
       "model_id": "6f1474cfc7de4e40b846e7822a519e37",
       "version_major": 2,
       "version_minor": 0
      },
      "text/plain": [
       "  0%|          | 0/15 [00:00<?, ?it/s]"
      ]
     },
     "metadata": {},
     "output_type": "display_data"
    },
    {
     "data": {
      "application/vnd.jupyter.widget-view+json": {
       "model_id": "7689b1264db74bec945c7d0bfce50019",
       "version_major": 2,
       "version_minor": 0
      },
      "text/plain": [
       "  0%|          | 0/14 [00:00<?, ?it/s]"
      ]
     },
     "metadata": {},
     "output_type": "display_data"
    },
    {
     "data": {
      "application/vnd.jupyter.widget-view+json": {
       "model_id": "d6bc77fc53e1454592df7c1b0a7bb1eb",
       "version_major": 2,
       "version_minor": 0
      },
      "text/plain": [
       "  0%|          | 0/13 [00:00<?, ?it/s]"
      ]
     },
     "metadata": {},
     "output_type": "display_data"
    },
    {
     "data": {
      "application/vnd.jupyter.widget-view+json": {
       "model_id": "08bc040189bf448d9e73f1051da09f35",
       "version_major": 2,
       "version_minor": 0
      },
      "text/plain": [
       "  0%|          | 0/12 [00:00<?, ?it/s]"
      ]
     },
     "metadata": {},
     "output_type": "display_data"
    }
   ],
   "source": [
    "def calculate_vif(df, cols_to_check:list) -> dict:\n",
    "    X = df[cols_to_check].values\n",
    "    return {col: variance_inflation_factor(X,i) for i,col in tqdm(list(enumerate(cols_to_check)))}\n",
    " \n",
    " \n",
    "cols_to_check= X_cols.copy() #create a copy\n",
    "#remove columns with high VIF\n",
    "vif_values = calculate_vif(train_df, cols_to_check)\n",
    "vif_df = pd.DataFrame(vif_values.values(), index=vif_values.keys())\n",
    "while (vif_df>10).max().item():\n",
    "    cols_to_check.remove(vif_df.idxmax().item())\n",
    "    vif_values = calculate_vif(train_df, cols_to_check)\n",
    "    vif_df = pd.DataFrame(vif_values.values(), index=vif_values.keys())"
   ]
  },
  {
   "cell_type": "code",
   "execution_count": 15,
   "metadata": {},
   "outputs": [],
   "source": [
    "cols_to_use = [\"aerosol_type\", \"date\"] + list(vif_df.index)"
   ]
  },
  {
   "cell_type": "code",
   "execution_count": 16,
   "metadata": {},
   "outputs": [
    {
     "data": {
      "text/plain": [
       "['aerosol_type',\n",
       " 'date',\n",
       " 'Single_Scattering_Albedo[675nm]',\n",
       " 'Absorption_Angstrom_Exponent_440-870nm',\n",
       " 'Refractive_Index-Real_Part[440nm]',\n",
       " 'Refractive_Index-Real_Part[1020nm]',\n",
       " 'Asymmetry_Factor-Total[440nm]',\n",
       " 'Asymmetry_Factor-Total[1020nm]',\n",
       " 'Asymmetry_Factor-Fine[440nm]',\n",
       " 'Asymmetry_Factor-Fine[1020nm]',\n",
       " 'Asymmetry_Factor-Coarse[1020nm]',\n",
       " 'Lidar_Ratio[440nm]',\n",
       " 'Lidar_Ratio[1020nm]',\n",
       " 'Depolarization_Ratio[440nm]']"
      ]
     },
     "execution_count": 16,
     "metadata": {},
     "output_type": "execute_result"
    }
   ],
   "source": [
    "cols_to_use"
   ]
  },
  {
   "attachments": {},
   "cell_type": "markdown",
   "metadata": {},
   "source": [
    "# Finalize Train and Validation Sets"
   ]
  },
  {
   "cell_type": "code",
   "execution_count": 17,
   "metadata": {},
   "outputs": [],
   "source": [
    "train_df[cols_to_use].to_csv(\"train_set.csv\", index=False)"
   ]
  },
  {
   "cell_type": "code",
   "execution_count": 18,
   "metadata": {},
   "outputs": [],
   "source": [
    "valid_temp = pd.DataFrame(mice_imputer.transform(valid_df[X_cols]), columns=X_cols)\n",
    "valid_temp = (valid_temp - train_mean)/train_std"
   ]
  },
  {
   "cell_type": "code",
   "execution_count": 19,
   "metadata": {},
   "outputs": [],
   "source": [
    "pd.concat([\n",
    "    valid_df[[\"aerosol_type\", \"date\"]].reset_index(),\n",
    "    valid_temp\n",
    "], axis=1)[cols_to_use].to_csv(\"valid_set.csv\", index=False)"
   ]
  },
  {
   "attachments": {},
   "cell_type": "markdown",
   "metadata": {},
   "source": [
    "# Test Set (Manila Observatory)"
   ]
  },
  {
   "cell_type": "code",
   "execution_count": 20,
   "metadata": {},
   "outputs": [],
   "source": [
    "test_df = pd.read_csv(\n",
    "    \"./raw_data/20090101_20221231_Manila_Observatory.all\", skiprows=6, na_values=-999\n",
    ")[cols_to_keep].assign(\n",
    "    date = lambda x: pd.to_datetime(x[\"Date(dd:mm:yyyy)\"], format=r\"%d:%m:%Y\"),\n",
    ").drop(columns=[\"Site\", \"Date(dd:mm:yyyy)\"])"
   ]
  },
  {
   "cell_type": "code",
   "execution_count": 21,
   "metadata": {},
   "outputs": [],
   "source": [
    "test_temp = pd.DataFrame(mice_imputer.transform(test_df[X_cols]), columns=X_cols)\n",
    "test_temp = (test_temp - train_mean)/ train_std"
   ]
  },
  {
   "cell_type": "code",
   "execution_count": 22,
   "metadata": {},
   "outputs": [],
   "source": [
    "test_cols_to_use = [c for c in cols_to_use if c != \"aerosol_type\"]"
   ]
  },
  {
   "cell_type": "code",
   "execution_count": 24,
   "metadata": {},
   "outputs": [],
   "source": [
    "test_temp.assign(\n",
    "    date = test_df.date.values\n",
    ")[test_cols_to_use].to_csv(\"test_set.csv\", index=False)"
   ]
  }
 ],
 "metadata": {
  "kernelspec": {
   "display_name": "base",
   "language": "python",
   "name": "python3"
  },
  "language_info": {
   "codemirror_mode": {
    "name": "ipython",
    "version": 3
   },
   "file_extension": ".py",
   "mimetype": "text/x-python",
   "name": "python",
   "nbconvert_exporter": "python",
   "pygments_lexer": "ipython3",
   "version": "3.7.11"
  },
  "orig_nbformat": 4,
  "vscode": {
   "interpreter": {
    "hash": "939bd20d5b44ed9d2a08eeb7fcb11d81258daf29df23b651221596b168b47990"
   }
  }
 },
 "nbformat": 4,
 "nbformat_minor": 2
}
