{
 "cells": [
  {
   "attachments": {},
   "cell_type": "markdown",
   "metadata": {},
   "source": [
    "Where we convert the raw data into training and validation sets.\n",
    "Manila Observatory will be the \"test\" set.\n",
    "\n",
    "`aerosol_type` is the response variable"
   ]
  },
  {
   "cell_type": "code",
   "execution_count": 1,
   "metadata": {},
   "outputs": [
    {
     "name": "stderr",
     "output_type": "stream",
     "text": [
      "c:\\Users\\Hans\\Anaconda3\\lib\\site-packages\\statsmodels\\tools\\_testing.py:19: FutureWarning: pandas.util.testing is deprecated. Use the functions in the public API at pandas.testing instead.\n",
      "  import pandas.util.testing as tm\n"
     ]
    }
   ],
   "source": [
    "import pandas as pd\n",
    "import numpy as np\n",
    "import os\n",
    "\n",
    "# MICE (imputation)\n",
    "from sklearn.experimental import enable_iterative_imputer\n",
    "from sklearn.impute import IterativeImputer\n",
    "from sklearn import linear_model\n",
    "\n",
    "# Feature Selection (VIF)\n",
    "import statsmodels.api as sm\n",
    "from statsmodels.stats.outliers_influence import variance_inflation_factor"
   ]
  },
  {
   "cell_type": "code",
   "execution_count": 2,
   "metadata": {},
   "outputs": [],
   "source": [
    "REF_CLUSTER_DIR = \"raw_data/reference_sites/\"\n",
    "\n",
    "site2type = {\n",
    "    \"Solar_Village\" : \"MD\",\n",
    "    \"Beijing\" : \"PD\",\n",
    "    \"Mongu\" : \"BBD\",\n",
    "    \"Alta_Floresta\": \"BBW\",\n",
    "    \"GSFC\" : \"UI\",\n",
    "    \"Chen-Kung_Univ\" : \"UID\",\n",
    "}\n",
    "\n",
    "site_min_month = {\n",
    "    \"Solar_Village\" : 3,\n",
    "    \"Beijing\" : 1,\n",
    "    \"Mongu\" : 8,\n",
    "    \"Alta_Floresta\": 8,\n",
    "    \"GSFC\" : 6,\n",
    "    \"Chen-Kung_Univ\" : 1,\n",
    "}\n",
    "\n",
    "site_max_month = {\n",
    "    \"Solar_Village\" : 7,\n",
    "    \"Beijing\" : 12,\n",
    "    \"Mongu\" : 11,\n",
    "    \"Alta_Floresta\": 10,\n",
    "    \"GSFC\" : 9,\n",
    "    \"Chen-Kung_Univ\" : 12,\n",
    "}\n",
    "\n",
    "\n",
    "\n",
    "cols_to_keep = [\n",
    "    'Site',\n",
    "    'Date(dd:mm:yyyy)',\n",
    "    'Angstrom_Exponent_440-870nm_from_Coincident_Input_AOD',\n",
    "    'Extinction_Angstrom_Exponent_440-870nm-Total',\n",
    "    'Single_Scattering_Albedo[440nm]',\n",
    "    'Single_Scattering_Albedo[675nm]',\n",
    "    'Single_Scattering_Albedo[870nm]',\n",
    "    'Single_Scattering_Albedo[1020nm]',\n",
    "    'Absorption_Angstrom_Exponent_440-870nm',\n",
    "    'Refractive_Index-Real_Part[440nm]',\n",
    "    'Refractive_Index-Real_Part[675nm]',\n",
    "    'Refractive_Index-Real_Part[870nm]',\n",
    "    'Refractive_Index-Real_Part[1020nm]',\n",
    "    'Refractive_Index-Imaginary_Part[440nm]',\n",
    "    'Refractive_Index-Imaginary_Part[675nm]',\n",
    "    'Refractive_Index-Imaginary_Part[870nm]',\n",
    "    'Refractive_Index-Imaginary_Part[1020nm]',\n",
    "    'Asymmetry_Factor-Total[440nm]',\n",
    "    'Asymmetry_Factor-Total[675nm]',\n",
    "    'Asymmetry_Factor-Total[870nm]',\n",
    "    'Asymmetry_Factor-Total[1020nm]',\n",
    "    'Asymmetry_Factor-Fine[440nm]',\n",
    "    'Asymmetry_Factor-Fine[675nm]',\n",
    "    'Asymmetry_Factor-Fine[870nm]',\n",
    "    'Asymmetry_Factor-Fine[1020nm]',\n",
    "    'Asymmetry_Factor-Coarse[440nm]',\n",
    "    'Asymmetry_Factor-Coarse[675nm]',\n",
    "    'Asymmetry_Factor-Coarse[870nm]',\n",
    "    'Asymmetry_Factor-Coarse[1020nm]',\n",
    "    'Sphericity_Factor(%)',\n",
    "    'Lidar_Ratio[440nm]',\n",
    "    'Lidar_Ratio[675nm]',\n",
    "    'Lidar_Ratio[870nm]',\n",
    "    'Lidar_Ratio[1020nm]',\n",
    "    'Depolarization_Ratio[440nm]',\n",
    "    'Depolarization_Ratio[675nm]',\n",
    "    'Depolarization_Ratio[870nm]',\n",
    "    'Depolarization_Ratio[1020nm]',\n",
    "]"
   ]
  },
  {
   "cell_type": "code",
   "execution_count": 3,
   "metadata": {},
   "outputs": [],
   "source": [
    "df = pd.concat([\n",
    "    pd.read_csv(\n",
    "        REF_CLUSTER_DIR  + f, skiprows=6, na_values=-999\n",
    "    )[cols_to_keep].assign(\n",
    "        date = lambda x: pd.to_datetime(x[\"Date(dd:mm:yyyy)\"], format=r\"%d:%m:%Y\"),\n",
    "        month = lambda x: x.date.dt.month,\n",
    "        aerosol_type = lambda x: x.Site.map(site2type),\n",
    "        start_month = lambda x: x.Site.map(site_min_month),\n",
    "        end_month = lambda x: x.Site.map(site_max_month),\n",
    "    ).query(\"start_month <= month <= end_month\")\\\n",
    "    .drop(columns=[\"Site\", \"Date(dd:mm:yyyy)\", \"month\", \"start_month\", \"end_month\"])\n",
    "    for f in os.listdir(REF_CLUSTER_DIR)\n",
    "])"
   ]
  },
  {
   "cell_type": "code",
   "execution_count": 4,
   "metadata": {},
   "outputs": [
    {
     "data": {
      "text/plain": [
       "MD     6162\n",
       "UI     3093\n",
       "PD     3088\n",
       "BBD    1984\n",
       "UID    1550\n",
       "BBW    1060\n",
       "Name: aerosol_type, dtype: int64"
      ]
     },
     "execution_count": 4,
     "metadata": {},
     "output_type": "execute_result"
    }
   ],
   "source": [
    "df.aerosol_type.value_counts()"
   ]
  },
  {
   "cell_type": "code",
   "execution_count": 5,
   "metadata": {},
   "outputs": [
    {
     "data": {
      "text/plain": [
       "0.4823758634941253"
      ]
     },
     "execution_count": 5,
     "metadata": {},
     "output_type": "execute_result"
    }
   ],
   "source": [
    "df[\"Single_Scattering_Albedo[440nm]\"].isna().mean()"
   ]
  },
  {
   "attachments": {},
   "cell_type": "markdown",
   "metadata": {},
   "source": [
    "# Train-Validation Split\n",
    "\n",
    "Data must be split before doing imputation in order to avoid data leakage. To keep things simple, we'll stick with a simple 70-30 split."
   ]
  },
  {
   "cell_type": "code",
   "execution_count": 6,
   "metadata": {},
   "outputs": [],
   "source": [
    "np.random.seed(2023)\n",
    "rand_idx = np.random.permutation(df.index)\n",
    "train_idx = rand_idx[:int(0.7*len(rand_idx))]\n",
    "valid_idx = rand_idx[int(0.7*len(rand_idx)):]"
   ]
  },
  {
   "cell_type": "code",
   "execution_count": 7,
   "metadata": {},
   "outputs": [],
   "source": [
    "train_df = df.loc[train_idx]\n",
    "valid_df = df.loc[valid_idx]"
   ]
  },
  {
   "attachments": {},
   "cell_type": "markdown",
   "metadata": {},
   "source": [
    "# MICE imputation\n",
    "\n",
    "SMOTE is for balancing the classes, in our case what we need is a method for imputation. A common method to use (apart from filling the NANs with the mean) is Multivariate Imputation by Chained Equation (MICE).\n",
    "\n",
    "Ref: https://towardsdatascience.com/imputing-missing-data-with-simple-and-advanced-techniques-f5c7b157fb87#:~:text=One%20way%20to%20impute%20missing,with%20the%20previously%20observed%20value.\n",
    "\n",
    "We fit the MICE imputer on the training set and use the learned model for imputing the validation and test sets."
   ]
  },
  {
   "cell_type": "code",
   "execution_count": 8,
   "metadata": {},
   "outputs": [
    {
     "data": {
      "text/plain": [
       "Index(['Sphericity_Factor(%)'], dtype='object')"
      ]
     },
     "execution_count": 8,
     "metadata": {},
     "output_type": "execute_result"
    }
   ],
   "source": [
    "train_df.columns[train_df.isna().mean()==1]"
   ]
  },
  {
   "cell_type": "code",
   "execution_count": 9,
   "metadata": {},
   "outputs": [],
   "source": [
    "# remove Sphericity_Factor(%) because the entire column is null.\n",
    "X_cols = [c for c in train_df.columns if c not in [\"aerosol_type\", \"date\", \"Sphericity_Factor(%)\"]]"
   ]
  },
  {
   "cell_type": "code",
   "execution_count": 10,
   "metadata": {},
   "outputs": [
    {
     "name": "stderr",
     "output_type": "stream",
     "text": [
      "c:\\Users\\Hans\\Anaconda3\\lib\\site-packages\\sklearn\\impute\\_iterative.py:701: ConvergenceWarning: [IterativeImputer] Early stopping criterion not reached.\n",
      "  ConvergenceWarning,\n"
     ]
    }
   ],
   "source": [
    "mice_imputer = IterativeImputer(\n",
    "    estimator=linear_model.BayesianRidge(), \n",
    "    n_nearest_features=None,\n",
    "    imputation_order=\"ascending\"    \n",
    ").fit(\n",
    "    train_df[X_cols]\n",
    ")"
   ]
  },
  {
   "cell_type": "code",
   "execution_count": 11,
   "metadata": {},
   "outputs": [],
   "source": [
    "train_df = pd.concat([\n",
    "    train_df.reset_index()[[\"aerosol_type\", \"date\"]],\n",
    "    pd.DataFrame(\n",
    "        mice_imputer.transform(train_df[X_cols]),\n",
    "        columns=X_cols\n",
    "    )\n",
    "], axis=1)"
   ]
  },
  {
   "attachments": {},
   "cell_type": "markdown",
   "metadata": {},
   "source": [
    "# Normalize Data"
   ]
  },
  {
   "cell_type": "code",
   "execution_count": 12,
   "metadata": {},
   "outputs": [],
   "source": [
    "train_mean = train_df[X_cols].mean()\n",
    "train_std = train_df[X_cols].std()"
   ]
  },
  {
   "cell_type": "code",
   "execution_count": 13,
   "metadata": {},
   "outputs": [],
   "source": [
    "train_df[X_cols] = (train_df[X_cols] - train_mean)/ train_std"
   ]
  },
  {
   "attachments": {},
   "cell_type": "markdown",
   "metadata": {},
   "source": [
    "# Feature Selection\n",
    "\n",
    "A lot of the columns are highly correlated -- let's multicollinearity using Variance Inflation Factor (VIF)."
   ]
  },
  {
   "cell_type": "code",
   "execution_count": 14,
   "metadata": {},
   "outputs": [],
   "source": [
    "vif_values = {}\n",
    "x = train_df[X_cols].values\n",
    "for i, col in enumerate(X_cols):\n",
    "    vif = variance_inflation_factor(x, i)\n",
    "    vif_values[col] = vif"
   ]
  },
  {
   "cell_type": "code",
   "execution_count": 15,
   "metadata": {},
   "outputs": [
    {
     "data": {
      "text/html": [
       "<div>\n",
       "<style scoped>\n",
       "    .dataframe tbody tr th:only-of-type {\n",
       "        vertical-align: middle;\n",
       "    }\n",
       "\n",
       "    .dataframe tbody tr th {\n",
       "        vertical-align: top;\n",
       "    }\n",
       "\n",
       "    .dataframe thead th {\n",
       "        text-align: right;\n",
       "    }\n",
       "</style>\n",
       "<table border=\"1\" class=\"dataframe\">\n",
       "  <thead>\n",
       "    <tr style=\"text-align: right;\">\n",
       "      <th></th>\n",
       "      <th>index</th>\n",
       "      <th>0</th>\n",
       "    </tr>\n",
       "  </thead>\n",
       "  <tbody>\n",
       "    <tr>\n",
       "      <th>0</th>\n",
       "      <td>Absorption_Angstrom_Exponent_440-870nm</td>\n",
       "      <td>12.614950</td>\n",
       "    </tr>\n",
       "    <tr>\n",
       "      <th>1</th>\n",
       "      <td>Lidar_Ratio[440nm]</td>\n",
       "      <td>45.293721</td>\n",
       "    </tr>\n",
       "    <tr>\n",
       "      <th>2</th>\n",
       "      <td>Refractive_Index-Imaginary_Part[440nm]</td>\n",
       "      <td>113.871125</td>\n",
       "    </tr>\n",
       "    <tr>\n",
       "      <th>3</th>\n",
       "      <td>Asymmetry_Factor-Fine[440nm]</td>\n",
       "      <td>116.673570</td>\n",
       "    </tr>\n",
       "    <tr>\n",
       "      <th>4</th>\n",
       "      <td>Refractive_Index-Real_Part[440nm]</td>\n",
       "      <td>151.905500</td>\n",
       "    </tr>\n",
       "    <tr>\n",
       "      <th>5</th>\n",
       "      <td>Single_Scattering_Albedo[440nm]</td>\n",
       "      <td>167.986787</td>\n",
       "    </tr>\n",
       "    <tr>\n",
       "      <th>6</th>\n",
       "      <td>Asymmetry_Factor-Total[440nm]</td>\n",
       "      <td>230.307581</td>\n",
       "    </tr>\n",
       "    <tr>\n",
       "      <th>7</th>\n",
       "      <td>Asymmetry_Factor-Coarse[440nm]</td>\n",
       "      <td>240.067637</td>\n",
       "    </tr>\n",
       "    <tr>\n",
       "      <th>8</th>\n",
       "      <td>Depolarization_Ratio[440nm]</td>\n",
       "      <td>288.913369</td>\n",
       "    </tr>\n",
       "    <tr>\n",
       "      <th>9</th>\n",
       "      <td>Refractive_Index-Real_Part[1020nm]</td>\n",
       "      <td>370.600901</td>\n",
       "    </tr>\n",
       "    <tr>\n",
       "      <th>10</th>\n",
       "      <td>Lidar_Ratio[675nm]</td>\n",
       "      <td>440.929550</td>\n",
       "    </tr>\n",
       "    <tr>\n",
       "      <th>11</th>\n",
       "      <td>Refractive_Index-Real_Part[675nm]</td>\n",
       "      <td>448.479294</td>\n",
       "    </tr>\n",
       "    <tr>\n",
       "      <th>12</th>\n",
       "      <td>Lidar_Ratio[1020nm]</td>\n",
       "      <td>573.704060</td>\n",
       "    </tr>\n",
       "    <tr>\n",
       "      <th>13</th>\n",
       "      <td>Single_Scattering_Albedo[675nm]</td>\n",
       "      <td>815.008079</td>\n",
       "    </tr>\n",
       "    <tr>\n",
       "      <th>14</th>\n",
       "      <td>Refractive_Index-Imaginary_Part[675nm]</td>\n",
       "      <td>821.931288</td>\n",
       "    </tr>\n",
       "    <tr>\n",
       "      <th>15</th>\n",
       "      <td>Refractive_Index-Imaginary_Part[1020nm]</td>\n",
       "      <td>877.908884</td>\n",
       "    </tr>\n",
       "    <tr>\n",
       "      <th>16</th>\n",
       "      <td>Refractive_Index-Real_Part[870nm]</td>\n",
       "      <td>952.895140</td>\n",
       "    </tr>\n",
       "    <tr>\n",
       "      <th>17</th>\n",
       "      <td>Single_Scattering_Albedo[1020nm]</td>\n",
       "      <td>1168.625849</td>\n",
       "    </tr>\n",
       "    <tr>\n",
       "      <th>18</th>\n",
       "      <td>Asymmetry_Factor-Coarse[1020nm]</td>\n",
       "      <td>1174.557177</td>\n",
       "    </tr>\n",
       "    <tr>\n",
       "      <th>19</th>\n",
       "      <td>Lidar_Ratio[870nm]</td>\n",
       "      <td>1291.850272</td>\n",
       "    </tr>\n",
       "    <tr>\n",
       "      <th>20</th>\n",
       "      <td>Angstrom_Exponent_440-870nm_from_Coincident_In...</td>\n",
       "      <td>1781.535050</td>\n",
       "    </tr>\n",
       "    <tr>\n",
       "      <th>21</th>\n",
       "      <td>Asymmetry_Factor-Coarse[675nm]</td>\n",
       "      <td>1838.654226</td>\n",
       "    </tr>\n",
       "    <tr>\n",
       "      <th>22</th>\n",
       "      <td>Refractive_Index-Imaginary_Part[870nm]</td>\n",
       "      <td>2102.603762</td>\n",
       "    </tr>\n",
       "    <tr>\n",
       "      <th>23</th>\n",
       "      <td>Extinction_Angstrom_Exponent_440-870nm-Total</td>\n",
       "      <td>2171.476252</td>\n",
       "    </tr>\n",
       "    <tr>\n",
       "      <th>24</th>\n",
       "      <td>Single_Scattering_Albedo[870nm]</td>\n",
       "      <td>2603.799676</td>\n",
       "    </tr>\n",
       "    <tr>\n",
       "      <th>25</th>\n",
       "      <td>Asymmetry_Factor-Fine[675nm]</td>\n",
       "      <td>2607.546152</td>\n",
       "    </tr>\n",
       "    <tr>\n",
       "      <th>26</th>\n",
       "      <td>Asymmetry_Factor-Fine[1020nm]</td>\n",
       "      <td>2764.311847</td>\n",
       "    </tr>\n",
       "    <tr>\n",
       "      <th>27</th>\n",
       "      <td>Asymmetry_Factor-Total[1020nm]</td>\n",
       "      <td>2988.736142</td>\n",
       "    </tr>\n",
       "    <tr>\n",
       "      <th>28</th>\n",
       "      <td>Depolarization_Ratio[675nm]</td>\n",
       "      <td>3179.889294</td>\n",
       "    </tr>\n",
       "    <tr>\n",
       "      <th>29</th>\n",
       "      <td>Depolarization_Ratio[1020nm]</td>\n",
       "      <td>3367.277025</td>\n",
       "    </tr>\n",
       "    <tr>\n",
       "      <th>30</th>\n",
       "      <td>Asymmetry_Factor-Total[675nm]</td>\n",
       "      <td>3728.742930</td>\n",
       "    </tr>\n",
       "    <tr>\n",
       "      <th>31</th>\n",
       "      <td>Asymmetry_Factor-Coarse[870nm]</td>\n",
       "      <td>3789.883144</td>\n",
       "    </tr>\n",
       "    <tr>\n",
       "      <th>32</th>\n",
       "      <td>Depolarization_Ratio[870nm]</td>\n",
       "      <td>8705.978902</td>\n",
       "    </tr>\n",
       "    <tr>\n",
       "      <th>33</th>\n",
       "      <td>Asymmetry_Factor-Fine[870nm]</td>\n",
       "      <td>8724.978644</td>\n",
       "    </tr>\n",
       "    <tr>\n",
       "      <th>34</th>\n",
       "      <td>Asymmetry_Factor-Total[870nm]</td>\n",
       "      <td>10432.119127</td>\n",
       "    </tr>\n",
       "  </tbody>\n",
       "</table>\n",
       "</div>"
      ],
      "text/plain": [
       "                                                index             0\n",
       "0              Absorption_Angstrom_Exponent_440-870nm     12.614950\n",
       "1                                  Lidar_Ratio[440nm]     45.293721\n",
       "2              Refractive_Index-Imaginary_Part[440nm]    113.871125\n",
       "3                        Asymmetry_Factor-Fine[440nm]    116.673570\n",
       "4                   Refractive_Index-Real_Part[440nm]    151.905500\n",
       "5                     Single_Scattering_Albedo[440nm]    167.986787\n",
       "6                       Asymmetry_Factor-Total[440nm]    230.307581\n",
       "7                      Asymmetry_Factor-Coarse[440nm]    240.067637\n",
       "8                         Depolarization_Ratio[440nm]    288.913369\n",
       "9                  Refractive_Index-Real_Part[1020nm]    370.600901\n",
       "10                                 Lidar_Ratio[675nm]    440.929550\n",
       "11                  Refractive_Index-Real_Part[675nm]    448.479294\n",
       "12                                Lidar_Ratio[1020nm]    573.704060\n",
       "13                    Single_Scattering_Albedo[675nm]    815.008079\n",
       "14             Refractive_Index-Imaginary_Part[675nm]    821.931288\n",
       "15            Refractive_Index-Imaginary_Part[1020nm]    877.908884\n",
       "16                  Refractive_Index-Real_Part[870nm]    952.895140\n",
       "17                   Single_Scattering_Albedo[1020nm]   1168.625849\n",
       "18                    Asymmetry_Factor-Coarse[1020nm]   1174.557177\n",
       "19                                 Lidar_Ratio[870nm]   1291.850272\n",
       "20  Angstrom_Exponent_440-870nm_from_Coincident_In...   1781.535050\n",
       "21                     Asymmetry_Factor-Coarse[675nm]   1838.654226\n",
       "22             Refractive_Index-Imaginary_Part[870nm]   2102.603762\n",
       "23       Extinction_Angstrom_Exponent_440-870nm-Total   2171.476252\n",
       "24                    Single_Scattering_Albedo[870nm]   2603.799676\n",
       "25                       Asymmetry_Factor-Fine[675nm]   2607.546152\n",
       "26                      Asymmetry_Factor-Fine[1020nm]   2764.311847\n",
       "27                     Asymmetry_Factor-Total[1020nm]   2988.736142\n",
       "28                        Depolarization_Ratio[675nm]   3179.889294\n",
       "29                       Depolarization_Ratio[1020nm]   3367.277025\n",
       "30                      Asymmetry_Factor-Total[675nm]   3728.742930\n",
       "31                     Asymmetry_Factor-Coarse[870nm]   3789.883144\n",
       "32                        Depolarization_Ratio[870nm]   8705.978902\n",
       "33                       Asymmetry_Factor-Fine[870nm]   8724.978644\n",
       "34                      Asymmetry_Factor-Total[870nm]  10432.119127"
      ]
     },
     "execution_count": 15,
     "metadata": {},
     "output_type": "execute_result"
    }
   ],
   "source": [
    "sorted_vif = pd.DataFrame(vif_values.values(), index=vif_values.keys()).sort_values(0, ascending=True).reset_index()\n",
    "sorted_vif"
   ]
  },
  {
   "cell_type": "code",
   "execution_count": 16,
   "metadata": {},
   "outputs": [],
   "source": [
    "vif_values = {}\n",
    "cols = sorted_vif.iloc[:10, 0]\n",
    "x = train_df[cols].values\n",
    "for i, col in enumerate(cols):\n",
    "    vif = variance_inflation_factor(x, i)\n",
    "    vif_values[col] = vif"
   ]
  },
  {
   "cell_type": "code",
   "execution_count": 17,
   "metadata": {},
   "outputs": [
    {
     "data": {
      "text/html": [
       "<div>\n",
       "<style scoped>\n",
       "    .dataframe tbody tr th:only-of-type {\n",
       "        vertical-align: middle;\n",
       "    }\n",
       "\n",
       "    .dataframe tbody tr th {\n",
       "        vertical-align: top;\n",
       "    }\n",
       "\n",
       "    .dataframe thead th {\n",
       "        text-align: right;\n",
       "    }\n",
       "</style>\n",
       "<table border=\"1\" class=\"dataframe\">\n",
       "  <thead>\n",
       "    <tr style=\"text-align: right;\">\n",
       "      <th></th>\n",
       "      <th>index</th>\n",
       "      <th>0</th>\n",
       "    </tr>\n",
       "  </thead>\n",
       "  <tbody>\n",
       "    <tr>\n",
       "      <th>0</th>\n",
       "      <td>Absorption_Angstrom_Exponent_440-870nm</td>\n",
       "      <td>1.916303</td>\n",
       "    </tr>\n",
       "    <tr>\n",
       "      <th>1</th>\n",
       "      <td>Asymmetry_Factor-Coarse[440nm]</td>\n",
       "      <td>2.213302</td>\n",
       "    </tr>\n",
       "    <tr>\n",
       "      <th>2</th>\n",
       "      <td>Lidar_Ratio[440nm]</td>\n",
       "      <td>3.542581</td>\n",
       "    </tr>\n",
       "    <tr>\n",
       "      <th>3</th>\n",
       "      <td>Depolarization_Ratio[440nm]</td>\n",
       "      <td>3.809359</td>\n",
       "    </tr>\n",
       "    <tr>\n",
       "      <th>4</th>\n",
       "      <td>Refractive_Index-Real_Part[1020nm]</td>\n",
       "      <td>4.166197</td>\n",
       "    </tr>\n",
       "    <tr>\n",
       "      <th>5</th>\n",
       "      <td>Refractive_Index-Real_Part[440nm]</td>\n",
       "      <td>5.577222</td>\n",
       "    </tr>\n",
       "    <tr>\n",
       "      <th>6</th>\n",
       "      <td>Asymmetry_Factor-Total[440nm]</td>\n",
       "      <td>6.624543</td>\n",
       "    </tr>\n",
       "    <tr>\n",
       "      <th>7</th>\n",
       "      <td>Asymmetry_Factor-Fine[440nm]</td>\n",
       "      <td>6.710713</td>\n",
       "    </tr>\n",
       "    <tr>\n",
       "      <th>8</th>\n",
       "      <td>Refractive_Index-Imaginary_Part[440nm]</td>\n",
       "      <td>12.464324</td>\n",
       "    </tr>\n",
       "    <tr>\n",
       "      <th>9</th>\n",
       "      <td>Single_Scattering_Albedo[440nm]</td>\n",
       "      <td>13.784023</td>\n",
       "    </tr>\n",
       "  </tbody>\n",
       "</table>\n",
       "</div>"
      ],
      "text/plain": [
       "                                    index          0\n",
       "0  Absorption_Angstrom_Exponent_440-870nm   1.916303\n",
       "1          Asymmetry_Factor-Coarse[440nm]   2.213302\n",
       "2                      Lidar_Ratio[440nm]   3.542581\n",
       "3             Depolarization_Ratio[440nm]   3.809359\n",
       "4      Refractive_Index-Real_Part[1020nm]   4.166197\n",
       "5       Refractive_Index-Real_Part[440nm]   5.577222\n",
       "6           Asymmetry_Factor-Total[440nm]   6.624543\n",
       "7            Asymmetry_Factor-Fine[440nm]   6.710713\n",
       "8  Refractive_Index-Imaginary_Part[440nm]  12.464324\n",
       "9         Single_Scattering_Albedo[440nm]  13.784023"
      ]
     },
     "execution_count": 17,
     "metadata": {},
     "output_type": "execute_result"
    }
   ],
   "source": [
    "sorted_vif = pd.DataFrame(vif_values.values(), index=vif_values.keys()).sort_values(0, ascending=True).reset_index()\n",
    "sorted_vif"
   ]
  },
  {
   "attachments": {},
   "cell_type": "markdown",
   "metadata": {},
   "source": [
    "By trial-and-error, we only need 10 features in order to remove the multicollinearlity. Although the usual filter for VIF is 5, we have to be less strict in this case since we know from domain knowledge that some of the high VIF features are still relevant. For example, Single Scattering Albedo is known an important indicator of reflectivity, so we still include it despite having a VIF > 10."
   ]
  },
  {
   "cell_type": "code",
   "execution_count": 18,
   "metadata": {},
   "outputs": [],
   "source": [
    "cols_to_use = [\"aerosol_type\", \"date\"] + list(sorted_vif.iloc[:,0])"
   ]
  },
  {
   "attachments": {},
   "cell_type": "markdown",
   "metadata": {},
   "source": [
    "# Finalize Train and Validation Sets"
   ]
  },
  {
   "cell_type": "code",
   "execution_count": 19,
   "metadata": {},
   "outputs": [],
   "source": [
    "train_df[cols_to_use].to_csv(\"train_set.csv\", index=False)"
   ]
  },
  {
   "cell_type": "code",
   "execution_count": 20,
   "metadata": {},
   "outputs": [],
   "source": [
    "valid_temp = pd.DataFrame(mice_imputer.transform(valid_df[X_cols]), columns=X_cols)\n",
    "valid_temp = (valid_temp - train_mean)/train_std"
   ]
  },
  {
   "cell_type": "code",
   "execution_count": 21,
   "metadata": {},
   "outputs": [],
   "source": [
    "pd.concat([\n",
    "    valid_df[[\"aerosol_type\", \"date\"]].reset_index(),\n",
    "    valid_temp\n",
    "], axis=1)[cols_to_use].to_csv(\"valid_set.csv\", index=False)"
   ]
  },
  {
   "attachments": {},
   "cell_type": "markdown",
   "metadata": {},
   "source": [
    "# Test Set (Manila Observatory)"
   ]
  },
  {
   "cell_type": "code",
   "execution_count": 22,
   "metadata": {},
   "outputs": [],
   "source": [
    "test_df = pd.read_csv(\n",
    "    \"./raw_data/20090101_20221231_Manila_Observatory.all\", skiprows=6, na_values=-999\n",
    ")[cols_to_keep].assign(\n",
    "    date = lambda x: pd.to_datetime(x[\"Date(dd:mm:yyyy)\"], format=r\"%d:%m:%Y\"),\n",
    ").drop(columns=[\"Site\", \"Date(dd:mm:yyyy)\"])"
   ]
  },
  {
   "cell_type": "code",
   "execution_count": 23,
   "metadata": {},
   "outputs": [],
   "source": [
    "test_temp = pd.DataFrame(mice_imputer.transform(test_df[X_cols]), columns=X_cols)\n",
    "test_temp = (test_temp - train_mean)/ train_std"
   ]
  },
  {
   "cell_type": "code",
   "execution_count": 24,
   "metadata": {},
   "outputs": [],
   "source": [
    "test_cols_to_use = [c for c in cols_to_use if c != \"aerosol_type\"]"
   ]
  },
  {
   "cell_type": "code",
   "execution_count": 25,
   "metadata": {},
   "outputs": [],
   "source": [
    "test_temp.assign(\n",
    "    date = test_df.date.values\n",
    ")[test_cols_to_use].to_csv(\"test_set.csv\", index=False)"
   ]
  }
 ],
 "metadata": {
  "kernelspec": {
   "display_name": "base",
   "language": "python",
   "name": "python3"
  },
  "language_info": {
   "codemirror_mode": {
    "name": "ipython",
    "version": 3
   },
   "file_extension": ".py",
   "mimetype": "text/x-python",
   "name": "python",
   "nbconvert_exporter": "python",
   "pygments_lexer": "ipython3",
   "version": "3.7.11"
  },
  "orig_nbformat": 4,
  "vscode": {
   "interpreter": {
    "hash": "939bd20d5b44ed9d2a08eeb7fcb11d81258daf29df23b651221596b168b47990"
   }
  }
 },
 "nbformat": 4,
 "nbformat_minor": 2
}
