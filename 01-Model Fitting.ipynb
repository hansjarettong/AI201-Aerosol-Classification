{
 "cells": [
  {
   "cell_type": "code",
   "execution_count": 1,
   "metadata": {},
   "outputs": [],
   "source": [
    "import pandas as pd\n",
    "import numpy as np\n",
    "import pickle\n",
    "import time\n",
    "\n",
    "from sklearn.model_selection import GridSearchCV\n",
    "from mahalanobis import MahalanobisClassifier\n",
    "from sklearn.neighbors import KNeighborsClassifier\n",
    "from sklearn.naive_bayes import GaussianNB"
   ]
  },
  {
   "cell_type": "code",
   "execution_count": 2,
   "metadata": {},
   "outputs": [],
   "source": [
    "train = pd.read_csv(\"train_set.csv\")\n",
    "\n",
    "train_samps = train.drop([\"aerosol_type\", \"date\"], axis=1)\n",
    "train_labels = train[\"aerosol_type\"]"
   ]
  },
  {
   "cell_type": "markdown",
   "metadata": {},
   "source": [
    "## Model 1 - Mahalanobis Distance Classifier (MDC)"
   ]
  },
  {
   "cell_type": "code",
   "execution_count": 3,
   "metadata": {},
   "outputs": [],
   "source": [
    "# Fit Mahalanobis Distance Classifier model\n",
    "mdc = MahalanobisClassifier(train_samps, train_labels)\n",
    "\n",
    "# Save model to pickle file\n",
    "mdcPickle = open('models/mdc_pickle', 'wb') \n",
    "pickle.dump(mdc, mdcPickle)  \n",
    "mdcPickle.close()"
   ]
  },
  {
   "cell_type": "markdown",
   "metadata": {},
   "source": [
    "## Model 2A - k-Nearest Neighbors (KNN)"
   ]
  },
  {
   "cell_type": "code",
   "execution_count": 4,
   "metadata": {},
   "outputs": [],
   "source": [
    "# Fit k-Nearest Neighbors Classifier model\n",
    "knn = KNeighborsClassifier().fit(train_samps, train_labels) \n",
    "\n",
    "# Save model to pickle file\n",
    "knnPickle = open('models/knn_pickle', 'wb') \n",
    "pickle.dump(knn, knnPickle)  \n",
    "knnPickle.close()"
   ]
  },
  {
   "cell_type": "markdown",
   "metadata": {},
   "source": [
    "## Model 2B - k-Nearest Neighbors with Hyperparameter Tuning (KNN-tuned)"
   ]
  },
  {
   "cell_type": "code",
   "execution_count": 5,
   "metadata": {},
   "outputs": [
    {
     "data": {
      "text/plain": [
       "{'n_neighbors': 1}"
      ]
     },
     "execution_count": 5,
     "metadata": {},
     "output_type": "execute_result"
    }
   ],
   "source": [
    "# Tune hyperparameter(s): n_neighbors\n",
    "knn_gscv = KNeighborsClassifier()\n",
    "param_grid_knn = {\"n_neighbors\": np.arange(1, 25)}\n",
    "\n",
    "knn_gscv = GridSearchCV(knn_gscv, param_grid_knn, cv=5)\n",
    "knn_gscv.fit(train_samps, train_labels)\n",
    "knn_gscv.best_params_"
   ]
  },
  {
   "cell_type": "code",
   "execution_count": 6,
   "metadata": {},
   "outputs": [],
   "source": [
    "# Fit k-Nearest Neighbors Classifier model with hyperparameter tuning\n",
    "knn_tuned = KNeighborsClassifier(**knn_gscv.best_params_).fit(train_samps, train_labels) \n",
    "\n",
    "# Save model to pickle file\n",
    "knntunedPickle = open('models/knn_tuned_pickle', 'wb') \n",
    "pickle.dump(knn_tuned, knntunedPickle)  \n",
    "knntunedPickle.close()"
   ]
  },
  {
   "cell_type": "markdown",
   "metadata": {},
   "source": [
    "## Model 3A - Naive Bayes Classifier "
   ]
  },
  {
   "cell_type": "code",
   "execution_count": 7,
   "metadata": {},
   "outputs": [],
   "source": [
    "# Fit Naive Bayes Classifier model\n",
    "gnb = GaussianNB().fit(train_samps, train_labels)\n",
    "\n",
    "# Save model to pickle file\n",
    "gnbPickle = open('models/gnb_pickle', 'wb') \n",
    "pickle.dump(gnb, gnbPickle)  \n",
    "gnbPickle.close()"
   ]
  },
  {
   "cell_type": "markdown",
   "metadata": {},
   "source": [
    "## Model 3B - Naive Bayes Classifier with Hyperparameter Tuning (NB-tuned)"
   ]
  },
  {
   "cell_type": "code",
   "execution_count": null,
   "metadata": {},
   "outputs": [],
   "source": [
    "# Tune hyperparameter(s): var_smoothing\n",
    "gnb_gscv = GaussianNB()\n",
    "param_grid_gnb = {\"var_smoothing\": np.logspace(0, -9, num=100)}\n",
    "\n",
    "gnb_gscv = GridSearchCV(gnb_gscv, param_grid_gnb, cv=5)\n",
    "gnb_gscv.fit(train_samps, train_labels)\n",
    "gnb_gscv.best_params_"
   ]
  },
  {
   "cell_type": "code",
   "execution_count": null,
   "metadata": {},
   "outputs": [],
   "source": [
    "# Fit Naive Bayes Classifier model with hyperparameter tuning\n",
    "gnb_tuned = GaussianNB(**gnb_gscv.best_params_).fit(train_samps, train_labels) \n",
    "\n",
    "# Save model to pickle file\n",
    "gnbtunedPickle = open('models/gnb_tuned_pickle', 'wb') \n",
    "pickle.dump(gnb_tuned, gnbtunedPickle)  \n",
    "gnbtunedPickle.close()"
   ]
  },
  {
   "cell_type": "markdown",
   "metadata": {},
   "source": [
    "### References\n",
    "\n",
    "#### Mahalanobis Distance Classifier\n",
    "- https://github.com/mavroudisv/Mahalanobis-Classifier/blob/master/main.py\n",
    "- https://www.machinelearningplus.com/statistics/mahalanobis-distance/\n",
    "- https://www.cs.princeton.edu/courses/archive/fall08/cos436/Duda/PR_Mahal/M_metric.htm\n",
    "- https://scikit-learn.org/stable/auto_examples/covariance/plot_mahalanobis_distances.html\n",
    "- https://stackoverflow.com/questions/34643548/how-to-use-mahalanobis-distance-in-sklearn-distancemetrics/34650347#34650347\n",
    "\n",
    "#### k-Nearest Neighbors Classifier\n",
    "- https://python-course.eu/machine-learning/k-nearest-neighbor-classifier-with-sklearn.php\n",
    "\n",
    "#### Naive Bayes Classifier\n",
    "- https://www.geeksforgeeks.org/multiclass-classification-using-scikit-learn/#:~:text=%23%20training%20a%20Naive%20Bayes%20classifier"
   ]
  }
 ],
 "metadata": {
  "kernelspec": {
   "display_name": "Python 3 (ipykernel)",
   "language": "python",
   "name": "python3"
  },
  "language_info": {
   "codemirror_mode": {
    "name": "ipython",
    "version": 3
   },
   "file_extension": ".py",
   "mimetype": "text/x-python",
   "name": "python",
   "nbconvert_exporter": "python",
   "pygments_lexer": "ipython3",
   "version": "3.9.7"
  },
  "vscode": {
   "interpreter": {
    "hash": "939bd20d5b44ed9d2a08eeb7fcb11d81258daf29df23b651221596b168b47990"
   }
  }
 },
 "nbformat": 4,
 "nbformat_minor": 2
}
