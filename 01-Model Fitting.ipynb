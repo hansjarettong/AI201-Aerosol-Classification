{
 "cells": [
  {
   "cell_type": "code",
   "execution_count": 1,
   "metadata": {},
   "outputs": [],
   "source": [
    "import pandas as pd\n",
    "import numpy as np\n",
    "\n",
    "from sklearn.model_selection import GridSearchCV\n",
    "from mahalanobis import MahalanobisClassifier\n",
    "from sklearn.neighbors import KNeighborsClassifier\n",
    "from sklearn.naive_bayes import GaussianNB\n",
    "\n",
    "from sklearn.metrics import classification_report, accuracy_score, roc_auc_score"
   ]
  },
  {
   "cell_type": "code",
   "execution_count": 2,
   "metadata": {},
   "outputs": [],
   "source": [
    "train = pd.read_csv(\"AI201-Aerosol-Classification/train_set.csv\")\n",
    "valid = pd.read_csv(\"AI201-Aerosol-Classification/valid_set.csv\")"
   ]
  },
  {
   "cell_type": "code",
   "execution_count": 3,
   "metadata": {},
   "outputs": [],
   "source": [
    "train_samps = train.drop([\"aerosol_type\", \"date\"], axis=1)\n",
    "train_labels = train[\"aerosol_type\"]\n",
    "valid_samps = valid.drop([\"aerosol_type\", \"date\"], axis=1)\n",
    "valid_labels = valid[\"aerosol_type\"]"
   ]
  },
  {
   "cell_type": "markdown",
   "metadata": {},
   "source": [
    "## I. Mahalanobis Distance Classifier"
   ]
  },
  {
   "cell_type": "markdown",
   "metadata": {},
   "source": [
    "References:\n",
    "\n",
    "https://github.com/mavroudisv/Mahalanobis-Classifier/blob/master/main.py\n",
    "https://www.machinelearningplus.com/statistics/mahalanobis-distance/\n",
    "https://www.cs.princeton.edu/courses/archive/fall08/cos436/Duda/PR_Mahal/M_metric.htm\n",
    "https://scikit-learn.org/stable/auto_examples/covariance/plot_mahalanobis_distances.html\n",
    "https://stackoverflow.com/questions/34643548/how-to-use-mahalanobis-distance-in-sklearn-distancemetrics/34650347#34650347"
   ]
  },
  {
   "cell_type": "code",
   "execution_count": 4,
   "metadata": {},
   "outputs": [],
   "source": [
    "clf = MahalanobisClassifier(train_samps, train_labels)\n",
    "valid_pred_mdc = clf.predict_class(valid_samps)"
   ]
  },
  {
   "cell_type": "code",
   "execution_count": 5,
   "metadata": {},
   "outputs": [
    {
     "name": "stdout",
     "output_type": "stream",
     "text": [
      "(1) Mahalanobis Distance Classifier (MDC) Accuracy - 0.8116120113662545\n"
     ]
    }
   ],
   "source": [
    "print(\"(1) Mahalanobis Distance Classifier (MDC) Accuracy -\", accuracy_score(valid_labels, valid_pred_mdc))"
   ]
  },
  {
   "cell_type": "markdown",
   "metadata": {},
   "source": [
    "## II. k-Nearest Neighbors"
   ]
  },
  {
   "cell_type": "markdown",
   "metadata": {},
   "source": [
    "References:\n",
    "\n",
    "https://python-course.eu/machine-learning/k-nearest-neighbor-classifier-with-sklearn.php"
   ]
  },
  {
   "cell_type": "code",
   "execution_count": 6,
   "metadata": {},
   "outputs": [],
   "source": [
    "knn = KNeighborsClassifier().fit(train_samps, train_labels) \n",
    "valid_pred_knn = knn.predict(valid_samps)"
   ]
  },
  {
   "cell_type": "code",
   "execution_count": 7,
   "metadata": {},
   "outputs": [
    {
     "name": "stdout",
     "output_type": "stream",
     "text": [
      "(2A) k-Nearest Neighbors (KNN) Accuracy - 0.9047692189539974\n"
     ]
    }
   ],
   "source": [
    "print(\"(2A) k-Nearest Neighbors (KNN) Accuracy -\", accuracy_score(valid_labels, valid_pred_knn))"
   ]
  },
  {
   "cell_type": "markdown",
   "metadata": {},
   "source": [
    "#### Miscellaneous - Hyperparameter Tuning"
   ]
  },
  {
   "cell_type": "code",
   "execution_count": 8,
   "metadata": {},
   "outputs": [
    {
     "data": {
      "text/plain": [
       "{'n_neighbors': 1}"
      ]
     },
     "execution_count": 8,
     "metadata": {},
     "output_type": "execute_result"
    }
   ],
   "source": [
    "knn_gscv = KNeighborsClassifier()\n",
    "param_grid_knn = {\"n_neighbors\": np.arange(1, 25)}\n",
    "\n",
    "knn_gscv = GridSearchCV(knn_gscv, param_grid_knn, cv=5)\n",
    "knn_gscv.fit(train_samps, train_labels)\n",
    "knn_gscv.best_params_"
   ]
  },
  {
   "cell_type": "code",
   "execution_count": 9,
   "metadata": {},
   "outputs": [
    {
     "name": "stdout",
     "output_type": "stream",
     "text": [
      "(2B) k-Nearest Neighbors (KNN) Tuned Accuracy - 0.981414637892635\n"
     ]
    }
   ],
   "source": [
    "knn_tuned = KNeighborsClassifier(**knn_gscv.best_params_).fit(train_samps, train_labels) \n",
    "valid_pred_knn_tuned = knn_tuned.predict(valid_samps)\n",
    "\n",
    "print(\"(2B) k-Nearest Neighbors (KNN) Tuned Accuracy -\", accuracy_score(valid_labels, valid_pred_knn_tuned))"
   ]
  },
  {
   "cell_type": "markdown",
   "metadata": {},
   "source": [
    "## III. Naive Bayes Classifier "
   ]
  },
  {
   "cell_type": "markdown",
   "metadata": {},
   "source": [
    "References:\n",
    "\n",
    "https://www.geeksforgeeks.org/multiclass-classification-using-scikit-learn/#:~:text=%23%20training%20a%20Naive%20Bayes%20classifier"
   ]
  },
  {
   "cell_type": "code",
   "execution_count": 10,
   "metadata": {},
   "outputs": [],
   "source": [
    "gnb = GaussianNB().fit(train_samps, train_labels)\n",
    "valid_pred_gnb = gnb.predict(valid_samps)"
   ]
  },
  {
   "cell_type": "code",
   "execution_count": 11,
   "metadata": {},
   "outputs": [
    {
     "name": "stdout",
     "output_type": "stream",
     "text": [
      "(3A) Naive Bayes Accuracy - 0.7277474848321942\n"
     ]
    }
   ],
   "source": [
    "print(\"(3A) Naive Bayes Accuracy -\", accuracy_score(valid_labels, valid_pred_gnb))"
   ]
  },
  {
   "cell_type": "markdown",
   "metadata": {},
   "source": [
    "#### Miscellaneous - Hyperparameter Tuning"
   ]
  },
  {
   "cell_type": "code",
   "execution_count": 12,
   "metadata": {},
   "outputs": [
    {
     "data": {
      "text/plain": [
       "{'var_smoothing': 6.579332246575683e-05}"
      ]
     },
     "execution_count": 12,
     "metadata": {},
     "output_type": "execute_result"
    }
   ],
   "source": [
    "gnb_gscv = GaussianNB()\n",
    "param_grid_gnb = {\"var_smoothing\": np.logspace(0, -9, num=100)}\n",
    "\n",
    "gnb_gscv = GridSearchCV(gnb_gscv, param_grid_gnb, cv=5)\n",
    "gnb_gscv.fit(train_samps, train_labels)\n",
    "gnb_gscv.best_params_"
   ]
  },
  {
   "cell_type": "code",
   "execution_count": 13,
   "metadata": {},
   "outputs": [
    {
     "name": "stdout",
     "output_type": "stream",
     "text": [
      "(3B) Naive Bayes Tuned Accuracy - 0.7277474848321942\n"
     ]
    }
   ],
   "source": [
    "gnb_tuned = GaussianNB(**gnb_gscv.best_params_).fit(train_samps, train_labels) \n",
    "valid_pred_gnb_tuned = gnb_tuned.predict(valid_samps)\n",
    "\n",
    "print(\"(3B) Naive Bayes Tuned Accuracy -\", accuracy_score(valid_labels, valid_pred_gnb_tuned))"
   ]
  }
 ],
 "metadata": {
  "kernelspec": {
   "display_name": "Python 3 (ipykernel)",
   "language": "python",
   "name": "python3"
  },
  "language_info": {
   "codemirror_mode": {
    "name": "ipython",
    "version": 3
   },
   "file_extension": ".py",
   "mimetype": "text/x-python",
   "name": "python",
   "nbconvert_exporter": "python",
   "pygments_lexer": "ipython3",
   "version": "3.9.7"
  },
  "vscode": {
   "interpreter": {
    "hash": "939bd20d5b44ed9d2a08eeb7fcb11d81258daf29df23b651221596b168b47990"
   }
  }
 },
 "nbformat": 4,
 "nbformat_minor": 2
}
