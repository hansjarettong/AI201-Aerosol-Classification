{
 "cells": [
  {
   "cell_type": "code",
   "execution_count": 1,
   "metadata": {},
   "outputs": [],
   "source": [
    "import pandas as pd\n",
    "import numpy as np"
   ]
  },
  {
   "cell_type": "markdown",
   "metadata": {},
   "source": [
    "## Load new test data"
   ]
  },
  {
   "cell_type": "code",
   "execution_count": 2,
   "metadata": {},
   "outputs": [
    {
     "data": {
      "text/html": [
       "<div>\n",
       "<style scoped>\n",
       "    .dataframe tbody tr th:only-of-type {\n",
       "        vertical-align: middle;\n",
       "    }\n",
       "\n",
       "    .dataframe tbody tr th {\n",
       "        vertical-align: top;\n",
       "    }\n",
       "\n",
       "    .dataframe thead th {\n",
       "        text-align: right;\n",
       "    }\n",
       "</style>\n",
       "<table border=\"1\" class=\"dataframe\">\n",
       "  <thead>\n",
       "    <tr style=\"text-align: right;\">\n",
       "      <th></th>\n",
       "      <th>aerosol_type</th>\n",
       "      <th>date</th>\n",
       "      <th>Single_Scattering_Albedo[675nm]</th>\n",
       "      <th>Absorption_Angstrom_Exponent_440-870nm</th>\n",
       "      <th>Refractive_Index-Real_Part[440nm]</th>\n",
       "      <th>Refractive_Index-Real_Part[1020nm]</th>\n",
       "      <th>Asymmetry_Factor-Total[440nm]</th>\n",
       "      <th>Asymmetry_Factor-Total[1020nm]</th>\n",
       "      <th>Asymmetry_Factor-Fine[440nm]</th>\n",
       "      <th>Asymmetry_Factor-Fine[1020nm]</th>\n",
       "      <th>Asymmetry_Factor-Coarse[1020nm]</th>\n",
       "      <th>Lidar_Ratio[440nm]</th>\n",
       "      <th>Lidar_Ratio[1020nm]</th>\n",
       "      <th>Depolarization_Ratio[440nm]</th>\n",
       "    </tr>\n",
       "  </thead>\n",
       "  <tbody>\n",
       "    <tr>\n",
       "      <th>0</th>\n",
       "      <td>UID</td>\n",
       "      <td>2009-01-29</td>\n",
       "      <td>0.326197</td>\n",
       "      <td>-0.691044</td>\n",
       "      <td>-0.583627</td>\n",
       "      <td>-0.239521</td>\n",
       "      <td>0.114841</td>\n",
       "      <td>-0.276759</td>\n",
       "      <td>0.748385</td>\n",
       "      <td>0.269895</td>\n",
       "      <td>2.892512</td>\n",
       "      <td>1.085532</td>\n",
       "      <td>0.085721</td>\n",
       "      <td>0.493442</td>\n",
       "    </tr>\n",
       "    <tr>\n",
       "      <th>1</th>\n",
       "      <td>UID</td>\n",
       "      <td>2009-01-29</td>\n",
       "      <td>0.446421</td>\n",
       "      <td>-0.550457</td>\n",
       "      <td>-0.630753</td>\n",
       "      <td>-0.230968</td>\n",
       "      <td>-0.046461</td>\n",
       "      <td>-0.412813</td>\n",
       "      <td>0.603878</td>\n",
       "      <td>0.097671</td>\n",
       "      <td>2.922754</td>\n",
       "      <td>1.112423</td>\n",
       "      <td>0.065184</td>\n",
       "      <td>0.508634</td>\n",
       "    </tr>\n",
       "    <tr>\n",
       "      <th>2</th>\n",
       "      <td>PD</td>\n",
       "      <td>2009-02-02</td>\n",
       "      <td>-0.306409</td>\n",
       "      <td>1.103142</td>\n",
       "      <td>-1.057732</td>\n",
       "      <td>0.334848</td>\n",
       "      <td>0.274713</td>\n",
       "      <td>0.562224</td>\n",
       "      <td>-0.298487</td>\n",
       "      <td>-0.360308</td>\n",
       "      <td>-0.830384</td>\n",
       "      <td>0.643415</td>\n",
       "      <td>0.104435</td>\n",
       "      <td>-0.317556</td>\n",
       "    </tr>\n",
       "    <tr>\n",
       "      <th>3</th>\n",
       "      <td>PD</td>\n",
       "      <td>2009-02-02</td>\n",
       "      <td>-0.379049</td>\n",
       "      <td>1.712591</td>\n",
       "      <td>-0.537057</td>\n",
       "      <td>0.227926</td>\n",
       "      <td>-0.141602</td>\n",
       "      <td>0.588199</td>\n",
       "      <td>-0.685105</td>\n",
       "      <td>0.078547</td>\n",
       "      <td>-0.652569</td>\n",
       "      <td>0.149747</td>\n",
       "      <td>0.171862</td>\n",
       "      <td>-0.422341</td>\n",
       "    </tr>\n",
       "    <tr>\n",
       "      <th>4</th>\n",
       "      <td>PD</td>\n",
       "      <td>2009-02-03</td>\n",
       "      <td>-2.563406</td>\n",
       "      <td>-0.458946</td>\n",
       "      <td>0.492129</td>\n",
       "      <td>0.845122</td>\n",
       "      <td>0.178504</td>\n",
       "      <td>0.679166</td>\n",
       "      <td>0.074416</td>\n",
       "      <td>-0.198958</td>\n",
       "      <td>0.271337</td>\n",
       "      <td>1.041449</td>\n",
       "      <td>0.542799</td>\n",
       "      <td>-0.499935</td>\n",
       "    </tr>\n",
       "  </tbody>\n",
       "</table>\n",
       "</div>"
      ],
      "text/plain": [
       "  aerosol_type        date  Single_Scattering_Albedo[675nm]  \\\n",
       "0          UID  2009-01-29                         0.326197   \n",
       "1          UID  2009-01-29                         0.446421   \n",
       "2           PD  2009-02-02                        -0.306409   \n",
       "3           PD  2009-02-02                        -0.379049   \n",
       "4           PD  2009-02-03                        -2.563406   \n",
       "\n",
       "   Absorption_Angstrom_Exponent_440-870nm  Refractive_Index-Real_Part[440nm]  \\\n",
       "0                               -0.691044                          -0.583627   \n",
       "1                               -0.550457                          -0.630753   \n",
       "2                                1.103142                          -1.057732   \n",
       "3                                1.712591                          -0.537057   \n",
       "4                               -0.458946                           0.492129   \n",
       "\n",
       "   Refractive_Index-Real_Part[1020nm]  Asymmetry_Factor-Total[440nm]  \\\n",
       "0                           -0.239521                       0.114841   \n",
       "1                           -0.230968                      -0.046461   \n",
       "2                            0.334848                       0.274713   \n",
       "3                            0.227926                      -0.141602   \n",
       "4                            0.845122                       0.178504   \n",
       "\n",
       "   Asymmetry_Factor-Total[1020nm]  Asymmetry_Factor-Fine[440nm]  \\\n",
       "0                       -0.276759                      0.748385   \n",
       "1                       -0.412813                      0.603878   \n",
       "2                        0.562224                     -0.298487   \n",
       "3                        0.588199                     -0.685105   \n",
       "4                        0.679166                      0.074416   \n",
       "\n",
       "   Asymmetry_Factor-Fine[1020nm]  Asymmetry_Factor-Coarse[1020nm]  \\\n",
       "0                       0.269895                         2.892512   \n",
       "1                       0.097671                         2.922754   \n",
       "2                      -0.360308                        -0.830384   \n",
       "3                       0.078547                        -0.652569   \n",
       "4                      -0.198958                         0.271337   \n",
       "\n",
       "   Lidar_Ratio[440nm]  Lidar_Ratio[1020nm]  Depolarization_Ratio[440nm]  \n",
       "0            1.085532             0.085721                     0.493442  \n",
       "1            1.112423             0.065184                     0.508634  \n",
       "2            0.643415             0.104435                    -0.317556  \n",
       "3            0.149747             0.171862                    -0.422341  \n",
       "4            1.041449             0.542799                    -0.499935  "
      ]
     },
     "execution_count": 2,
     "metadata": {},
     "output_type": "execute_result"
    }
   ],
   "source": [
    "df = pd.read_csv(\"tables/test_new.csv\")\n",
    "\n",
    "df.head()"
   ]
  },
  {
   "cell_type": "markdown",
   "metadata": {},
   "source": [
    "## Temporal analysis on aerosol types"
   ]
  },
  {
   "cell_type": "code",
   "execution_count": 3,
   "metadata": {},
   "outputs": [],
   "source": [
    "# Choose COVID-19 start date\n",
    "# Reference: https://www.yalemedicine.org/news/covid-timeline\n",
    "covid_period_start = \"03/11/2020\""
   ]
  },
  {
   "cell_type": "code",
   "execution_count": 4,
   "metadata": {},
   "outputs": [],
   "source": [
    "# Get year column and flag to indicate if row is before or during COVID-19\n",
    "df = df.assign(\n",
    "    date = lambda x: pd.to_datetime(x[\"date\"]),\n",
    "    year = lambda x: x.date.dt.year,\n",
    "    after_covid = lambda x: np.where((x[\"date\"] - pd.Timestamp(covid_period_start)).dt.days >= 0, 1, 0),\n",
    ")"
   ]
  },
  {
   "cell_type": "code",
   "execution_count": 5,
   "metadata": {},
   "outputs": [
    {
     "data": {
      "text/plain": [
       "2009    156\n",
       "2010    273\n",
       "2011     82\n",
       "2012     49\n",
       "2013     98\n",
       "2014    224\n",
       "2015    232\n",
       "2016    139\n",
       "2017     23\n",
       "2018    167\n",
       "2019    107\n",
       "2020     27\n",
       "2021     26\n",
       "Name: year, dtype: int64"
      ]
     },
     "execution_count": 5,
     "metadata": {},
     "output_type": "execute_result"
    }
   ],
   "source": [
    "# Check amount of data for each year\n",
    "df.year.value_counts().sort_index()"
   ]
  },
  {
   "cell_type": "code",
   "execution_count": 6,
   "metadata": {},
   "outputs": [
    {
     "data": {
      "text/html": [
       "<div>\n",
       "<style scoped>\n",
       "    .dataframe tbody tr th:only-of-type {\n",
       "        vertical-align: middle;\n",
       "    }\n",
       "\n",
       "    .dataframe tbody tr th {\n",
       "        vertical-align: top;\n",
       "    }\n",
       "\n",
       "    .dataframe thead th {\n",
       "        text-align: right;\n",
       "    }\n",
       "</style>\n",
       "<table border=\"1\" class=\"dataframe\">\n",
       "  <thead>\n",
       "    <tr style=\"text-align: right;\">\n",
       "      <th></th>\n",
       "      <th>Pre-COVID-19 (%)</th>\n",
       "      <th>COVID-19 Period (%)</th>\n",
       "    </tr>\n",
       "  </thead>\n",
       "  <tbody>\n",
       "    <tr>\n",
       "      <th>BBD</th>\n",
       "      <td>3.377948</td>\n",
       "      <td>0.000000</td>\n",
       "    </tr>\n",
       "    <tr>\n",
       "      <th>BBW</th>\n",
       "      <td>6.947100</td>\n",
       "      <td>5.882353</td>\n",
       "    </tr>\n",
       "    <tr>\n",
       "      <th>MD</th>\n",
       "      <td>7.074570</td>\n",
       "      <td>5.882353</td>\n",
       "    </tr>\n",
       "    <tr>\n",
       "      <th>PD</th>\n",
       "      <td>50.987890</td>\n",
       "      <td>23.529412</td>\n",
       "    </tr>\n",
       "    <tr>\n",
       "      <th>UI</th>\n",
       "      <td>13.384321</td>\n",
       "      <td>50.000000</td>\n",
       "    </tr>\n",
       "    <tr>\n",
       "      <th>UID</th>\n",
       "      <td>18.228171</td>\n",
       "      <td>14.705882</td>\n",
       "    </tr>\n",
       "  </tbody>\n",
       "</table>\n",
       "</div>"
      ],
      "text/plain": [
       "     Pre-COVID-19 (%)  COVID-19 Period (%)\n",
       "BBD          3.377948             0.000000\n",
       "BBW          6.947100             5.882353\n",
       "MD           7.074570             5.882353\n",
       "PD          50.987890            23.529412\n",
       "UI          13.384321            50.000000\n",
       "UID         18.228171            14.705882"
      ]
     },
     "execution_count": 6,
     "metadata": {},
     "output_type": "execute_result"
    }
   ],
   "source": [
    "# Compare air composition before and during COVID-19\n",
    "air_comp_covid = pd.DataFrame({\n",
    "    \"Pre-COVID-19 (%)\": df[df[\"after_covid\"] == 0].aerosol_type.value_counts(normalize=True)*100,\n",
    "    \"COVID-19 Period (%)\": df[df[\"after_covid\"] == 1].aerosol_type.value_counts(normalize=True)*100\n",
    "}).fillna(0)\n",
    "\n",
    "air_comp_covid"
   ]
  },
  {
   "cell_type": "code",
   "execution_count": 7,
   "metadata": {},
   "outputs": [],
   "source": [
    "# Export results as CSV\n",
    "air_comp_covid.to_csv(\"tables/air_comp_covid_table.csv\", index=True)"
   ]
  }
 ],
 "metadata": {
  "kernelspec": {
   "display_name": "Python 3 (ipykernel)",
   "language": "python",
   "name": "python3"
  },
  "language_info": {
   "codemirror_mode": {
    "name": "ipython",
    "version": 3
   },
   "file_extension": ".py",
   "mimetype": "text/x-python",
   "name": "python",
   "nbconvert_exporter": "python",
   "pygments_lexer": "ipython3",
   "version": "3.9.7"
  },
  "vscode": {
   "interpreter": {
    "hash": "939bd20d5b44ed9d2a08eeb7fcb11d81258daf29df23b651221596b168b47990"
   }
  }
 },
 "nbformat": 4,
 "nbformat_minor": 2
}
